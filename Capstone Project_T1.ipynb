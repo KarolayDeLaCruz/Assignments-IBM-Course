{
    "cells": [
        {
            "cell_type": "markdown",
            "metadata": {
                "collapsed": true
            },
            "source": "# Capstone Project"
        },
        {
            "cell_type": "markdown",
            "metadata": {},
            "source": "### Introduction/Business Problem Section"
        },
        {
            "cell_type": "markdown",
            "metadata": {},
            "source": "Description of the problem: In the city of Quito, Ecuador, if someone is looking to open a bar, is important to know where to open it. The location will influence the influx of people and, therefore, the success of the business.\n\nBackground: There are 64 bars identified in Quito in the Foursquare application.\nThis business problem is focused for entrepreneurs looking to open bars in Quito."
        },
        {
            "cell_type": "code",
            "execution_count": null,
            "metadata": {},
            "outputs": [],
            "source": ""
        }
    ],
    "metadata": {
        "kernelspec": {
            "display_name": "Python 3.6",
            "language": "python",
            "name": "python3"
        },
        "language_info": {
            "codemirror_mode": {
                "name": "ipython",
                "version": 3
            },
            "file_extension": ".py",
            "mimetype": "text/x-python",
            "name": "python",
            "nbconvert_exporter": "python",
            "pygments_lexer": "ipython3",
            "version": "3.6.9"
        }
    },
    "nbformat": 4,
    "nbformat_minor": 1
}